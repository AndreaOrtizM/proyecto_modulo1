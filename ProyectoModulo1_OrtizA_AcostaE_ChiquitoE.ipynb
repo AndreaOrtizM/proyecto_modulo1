{
 "cells": [
  {
   "cell_type": "code",
   "execution_count": 2,
   "metadata": {
    "collapsed": true
   },
   "outputs": [],
   "source": [
    "# Importamos librerias necesarias.\n",
    "import numpy as np\n",
    "from scipy.integrate import odeint\n",
    "import matplotlib.pyplot as plt\n",
    "from ipywidgets import interact, interact_manual\n",
    "%matplotlib inline"
   ]
  },
  {
   "cell_type": "code",
   "execution_count": 3,
   "metadata": {
    "collapsed": true
   },
   "outputs": [],
   "source": [
    "# Modelo 1: Un cuerpo fijo\n",
    "def mov1 (x,t):\n",
    "    x, dx = x\n",
    "    return (dx, -G*M*m/x**2)    #Ecuación diferencial usada para modelar la trayectoria de un planeta alrededor de un Sol."
   ]
  },
  {
   "cell_type": "code",
   "execution_count": 80,
   "metadata": {
    "collapsed": true
   },
   "outputs": [],
   "source": [
    "#Condiciones inciales:\n",
    "G=5  #Gravedad del Sol\n",
    "M=1  #Masa del Sol\n",
    "m=1  #Masa del plameta"
   ]
  },
  {
   "cell_type": "code",
   "execution_count": 5,
   "metadata": {
    "collapsed": true
   },
   "outputs": [],
   "source": [
    "x0= (5.0, 0)   # Vector de condiciones iniciales, posición 5, velocidad inicial 0.\n",
    "t1=5 #Primera condición de tiempo\n",
    "t = np.linspace(0, t1, 1000)\n",
    "\n",
    "xx = odeint(mov1, x0, t) \n",
    "salto1=t1/1000 #Es para hacerle entender al interact cada cuanto es cada paso\n",
    "\n",
    "    "
   ]
  },
  {
   "cell_type": "code",
   "execution_count": 6,
   "metadata": {},
   "outputs": [
    {
     "data": {
      "application/vnd.jupyter.widget-view+json": {
       "model_id": "136b8659dce2415f8a14a40e6b084189"
      }
     },
     "metadata": {},
     "output_type": "display_data"
    }
   ],
   "source": [
    "def plut(time=0):\n",
    "    plt.figure(figsize=(6,5))\n",
    "    x=xx[:,0]\n",
    "    y=time\n",
    "    plt.plot(y, x[int(time*(1/salto1))], 'ko', ms =10, label='Planeta')\n",
    "\n",
    "    plt.plot(t, xx[:,0] , 'r', label='posicion')\n",
    "    plt.legend(loc=(1.1, 0.1))\n",
    "    plt.xlabel('Tiempo')\n",
    "    plt.ylabel('Posicion')\n",
    "interact_manual(plut, time = (0,t1,salto1));\n",
    "plt.show()"
   ]
  },
  {
   "cell_type": "code",
   "execution_count": 7,
   "metadata": {
    "collapsed": true
   },
   "outputs": [],
   "source": [
    "def mov1 (x,t):\n",
    "    x, dx, y, dy = x\n",
    "    return (dx, -G*M*m*x/(y**2+x**2)**(3/2), dy, -G*M*m*y/(y**2+x**2)**(3/2))"
   ]
  },
  {
   "cell_type": "code",
   "execution_count": 8,
   "metadata": {
    "collapsed": true
   },
   "outputs": [],
   "source": [
    "x0= (5, 0, 0, 0.5)\n",
    "t2=500 #Segunda condición de tiempo\n",
    "\n",
    "t = np.linspace(0, t2, 1000)\n",
    "\n",
    "xx = odeint(mov1, x0, t)\n",
    "\n",
    "salto2=t2/1000\n",
    "\n"
   ]
  },
  {
   "cell_type": "code",
   "execution_count": 9,
   "metadata": {
    "collapsed": true
   },
   "outputs": [],
   "source": [
    "#plt.figure(figsize=(6,5))\n",
    "\n",
    "#plt.figure(figsize = (5, 5))\n",
    "#plt.scatter(xx[:,0], xx[:,2], c= xx[:,0] , s = 8, lw = 0)\n",
    "#plt.xlabel('x', fontsize = 18)\n",
    "#plt.ylabel('y', fontsize = 18)\n",
    "#plt.show()"
   ]
  },
  {
   "cell_type": "code",
   "execution_count": 10,
   "metadata": {},
   "outputs": [
    {
     "data": {
      "application/vnd.jupyter.widget-view+json": {
       "model_id": "ce200b7b6e17458aa5e8c07f120b496b"
      }
     },
     "metadata": {},
     "output_type": "display_data"
    }
   ],
   "source": [
    "def plet(time=0):\n",
    "    plt.figure(figsize=(6,5))\n",
    "    x=xx[:,0]\n",
    "    y=xx[:,2]\n",
    "    z=time\n",
    "    plt.scatter(xx[:,0], xx[:,2], c= xx[:,0] , s = 8, lw = 0)\n",
    "    #plt.plot(z, x[int(time*(1/salto2))], 'ko', ms =10, label='Planeta 1')\n",
    "    plt.plot(0, 0, 'ko', ms =10, label='Sol')\n",
    "    #plt.plot(z, y[int(time*(1/salto2))], 'mD', ms =10, label='Planeta 2')\n",
    "    plt.plot(x[int(time*(1/salto2))], y[int(time*(1/salto2))], 'mD', ms =10, label='Planeta 2')\n",
    "    \n",
    "interact_manual(plet, time = (0,t2,salto2));\n",
    "plt.show()"
   ]
  },
  {
   "cell_type": "code",
   "execution_count": 11,
   "metadata": {
    "collapsed": true
   },
   "outputs": [],
   "source": [
    "def mov1 (x,t):\n",
    "    x1, dx1, y1, dy1, x2, dx2, y2, dy2 = x\n",
    "    return (dx1, -G*M*m*(x1-x2)/((y1-y2)**2+(x1-x2)**2)**(3/2), dy1, -G*M*m*(y1-y2)/((y1-y2)**2+(x1-x2)**2)**(3/2),\n",
    "           dx2, -G*M*m*(x2-x1)/((y1-y2)**2+(x1-x2)**2)**(3/2), dy2, -G*M*m*(y2-y1)/((y1-y2)**2+(x1-x2)**2)**(3/2))"
   ]
  },
  {
   "cell_type": "code",
   "execution_count": 13,
   "metadata": {},
   "outputs": [
    {
     "data": {
      "text/plain": [
       "<matplotlib.figure.Figure at 0x18df35c4a90>"
      ]
     },
     "metadata": {},
     "output_type": "display_data"
    },
    {
     "data": {
      "image/png": "[encoded data removed]",
      "text/plain": [
       "<matplotlib.figure.Figure at 0x18df35c4668>"
      ]
     },
     "metadata": {},
     "output_type": "display_data"
    }
   ],
   "source": [
    "x0= (5, 0, 0, 0.05, -5, 0, 0, -0.05)\n",
    "\n",
    "t = np.linspace(0, 50, 1000)\n",
    "\n",
    "xx = odeint(mov1, x0, t)\n",
    "\n",
    "plt.figure(figsize=(10,6))\n",
    "\n",
    "plt.figure(figsize = (5, 5))\n",
    "plt.scatter(xx[:,0], xx[:,2], c= xx[:,0] , s = 8, lw = 0)\n",
    "plt.scatter(xx[:,4], xx[:,6], c= xx[:,0] , s = 8, lw = 0)\n",
    "plt.xlabel('x', fontsize = 18)\n",
    "plt.ylabel('y', fontsize = 18)\n",
    "plt.show()"
   ]
  },
  {
   "cell_type": "code",
   "execution_count": null,
   "metadata": {
    "collapsed": true
   },
   "outputs": [],
   "source": []
  }
 ],
 "metadata": {
  "kernelspec": {
   "display_name": "Python 3",
   "language": "python",
   "name": "python3"
  },
  "language_info": {
   "codemirror_mode": {
    "name": "ipython",
    "version": 3
   },
   "file_extension": ".py",
   "mimetype": "text/x-python",
   "name": "python",
   "nbconvert_exporter": "python",
   "pygments_lexer": "ipython3",
   "version": "3.6.1"
  }
 },
 "nbformat": 4,
 "nbformat_minor": 2
}
