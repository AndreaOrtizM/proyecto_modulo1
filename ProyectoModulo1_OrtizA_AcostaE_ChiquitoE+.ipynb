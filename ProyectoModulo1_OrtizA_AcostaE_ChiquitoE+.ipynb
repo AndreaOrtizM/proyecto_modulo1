{
 "cells": [
  {
   "cell_type": "markdown",
   "metadata": {},
   "source": [
    "<img style=\"float: right; margin: 0px 0px 15px 15px;\" src=\"http://diariomontecristo.com/wp-content/uploads/2012/07/Tierra-Nocturna.jpg\" width=\"300px\" height=\"100px\" />\n",
    "\n",
    "<font color = red>\n",
    "\n",
    "# Ecuaciones del movimiento planetario\n",
    "\n",
    "<font color = purple>\n",
    "\n",
    "## 1. Objetivos\n",
    "\n",
    "<font color = blue>\n",
    "\n",
    "### 1.1 Objetivo general\n",
    "<font color = black> \n",
    "> - Describir un sistema planetario con uno y dos cuerpos, graficando sus ecuaciones de movimiento para observar sus órbitas, considerando el sol en el origen.\n",
    "\n",
    "<font color = blue> \n",
    "\n",
    "### 1.2 Objetivos específicos\n",
    "\n",
    "<font color = black> \n",
    "> - Examinar el caso de un sistema solar con un planeta en una sola dimensión.\n",
    "> - Analizar el mismo sistema anterior pero en dos dimensiones.\n",
    "> - Estudiar lo que sucede con dos cuerpos en dos dimensiones. \n"
   ]
  },
  {
   "cell_type": "markdown",
   "metadata": {},
   "source": [
    "<font color = purple>\n",
    "\n",
    "## 2. Antecendentes\n",
    "\n",
    "<font color = black>\n",
    "\n",
    "\n",
    "Desde la Antigua Grecia ya se conocían 5 planetas: Mercurio, Venus, Marte, Júpiter y Saturno, además del nuestro. **Ptolomeo de Alejandría** establece un sistema en el que la Tierra ocuparía el centro del Universo y en torno a ella se moverían los demás cuerpos celestes describiendo órbitas circulares, con el modelo conocido como geocéntrico. \n",
    "\n",
    "Ya en 280 A.C. **Aristarco de Samos** (310-250 A.C.), un astrónomo griego, razonó que la Tierra rotaba sobre su eje cada 24 horas y que, junto con los otros planetas, se movían alrededor del sol cada año (modelo heliocéntrico). Su propuesta no fue tomada en serio ya que la idea de que la Tierra era el centro del universo estaba arraigado a las creencias religiosas de la época.\n",
    "\n",
    "No fue sino hasta el siglo XVI que **Nicolás Copérnico** (1546-1601) retomó la proposición de Aristarco, considerando nuevamente que todos los planetas, incluida la Tierra, giraban en torno al Sol el cual estaría en el centro de sus órbitas. Copérnico es a quien se le da crédito en la historia de la ciencia por el modelo heliocéntrico.\n",
    "\n",
    "![hc](https://www.astronomia-iniciacion.com/images/copernico-sistema.gif)\n",
    "\n",
    "**Johannes Kepler** (1571-1630) continuó con el trabajo de Copérnico; se basó también en el trabajo experimental del astrónomo danés Tycho Brache (1546-1601). Kepler afirmó que los planetas describen órbitas elípticas (en lugar de circulares que era como se concebían en los modelos anteriores) alrededor del sol.  Finalmente,  todo esto llevó al astrónomo a plantear las leyes del movimiento planetario, las cuales son tres y fueron formuladas entre 1609 y 1619:\n",
    "\n",
    "1.\tLos planetas se mueve alrededor del Sol en elipses, estando el Sol en un foco.\n",
    "2.\tEl radio-vector que conecta al Sol con un planeta recorre áreas iguales en tiempos iguales.\n",
    "3.\tEl cuadrado del período orbital de un planeta es proporcional al cubo de la distancia media desde el Sol (semieje mayor).\n",
    "\n",
    "![hc](https://espaciociencia.com/wp-content/uploads/2010/10/leyes-de-kepler.png)\n",
    "\n",
    "**Galileo Galilei** refuerza la teoría de Copérnico justificándola con sus resultados experimentales. El hecho de que las lunas de Júpiter giren en torno a él implica en primer lugar que no todo gira en torno a la Tierra. Su vehemencia a la hora de seguir defendiendo la teoría heliocéntrica le llevó a serios problemas teniendo que enfrentarse a una condena de la Inquisición y a un arresto en su casa de las afueras de Florencia.\n",
    "\n",
    "Las ideas de Aristarco, restauradas por Copérnico y avanzadas por Kepler, culminaron su desarrollo con el genio de **Isaac Newton** (1642-1727). Con los descubrimientos empíricos de Kepler, Newton se esforzó en responder dos cuestiones fundamentales: \n",
    "\n",
    "* Qué fuerzas causan que los planetas se muevan alrededor del sol\n",
    "* Por qué las órbitas son elípticas\n",
    "\n",
    "De esta manera, en su libro *“Principia”*  describió la *Ley de la Gravitación Universal*, además de que estableció las bases de la mecánica clásica mediante las leyes que llevan su nombre.  \n"
   ]
  },
  {
   "cell_type": "markdown",
   "metadata": {},
   "source": [
    "<font color = purple>\n",
    "\n",
    "## 3. Modelo\n",
    "\n",
    "<font color = blue>\n",
    "\n",
    "### Ley de la gravitación universal \n",
    "\n",
    "<font color = black>\n",
    "\n",
    "Newton percibía que los objetos eran atraídos hacia el suelo por alguna fuerza aceleradora. Después de un razonamiento, demostró que la gravedad sigue la ley del inverso del cuadrado: la fuerza de la gravedad disminuye con el cuadrado de la distancia de un cuerpo. \n",
    "\n",
    "Esta ley explicaba en una ecuación las órbitas de todos los planetas como se describen en las tres leyes de Kepler. La ley de Newton predecía que viajaban más rápido cerca del sol (ya que la fuerza gravitatoria era mayor) a medida que seguían trayectorias elípticas\n",
    "\n",
    "![manzana](http://estaticos.muyhistoria.es/rcs/articles/3498/newton-manzana.jpg)\n",
    "\n",
    "\"Entre dos objetos de masas $m$ y $M$, respectivamente, a una distancia $r$ uno de otro, existe una fuerza atractiva $F$ cuya magnitud es proporcional a cada una de las dos masas e inversamente proporcional al cuadrado de la distancia $r$.\"\n",
    "\n",
    "![masas](https://hernanleon1002.files.wordpress.com/2014/08/ley-de-gravitacion-universal.png?w=700)\n",
    "\n",
    "\\begin{equation}\n",
    "F = G\\frac{m*M}{r^2}\n",
    "\\end{equation}\n",
    "\n",
    "Donde G se define como la Constante de gravitación universal y su valor es:\n",
    "\n",
    "\\begin{equation}\n",
    "G=6.670 x 10^{-11}   \\frac {N*m^2}{kg^2}\n",
    "\\end{equation}\n",
    "\n",
    "Dicha fuerza de atracción se efectúa sobre cada una de las dos masas:\n",
    "\n",
    "\\begin{equation}\n",
    "\\overrightarrow{F_m} = G\\frac{m*M}{r^2}\\overrightarrow{u_r}\n",
    "\\end{equation}\n",
    "\n",
    "\\begin{equation}\n",
    "\\overrightarrow{F_M} = -G\\frac{m*M}{r^2}\\overrightarrow{u_r}\n",
    "\\end{equation}\n",
    "\n",
    "Donde $\\overrightarrow{u_r}$ es el vector en la dirección de m a M.\n",
    "\n",
    "Recordemos también la segunda ley de Newton dice que $F=ma$ donde $a$ es la aceleración, que es la segunda derivada de la posición. \n",
    "\n",
    "Ahora bien, consideremos un sistema solar de un sol y un objeto. Si una masa se mueve bajo la influencia de una fuerza central (fuerza gravitacional), su trajectoria permanece en el mismo plano, ya que el momento angular L permanece constante (su derivada es cero)lo cual implica que tanto el plano del vector $\\overrightarrow{r}$ como el de la velocidad es el mismo a lo largo del tiempo. \n",
    "\n",
    "Podemos notar también que al reemplazar la fuerza por la segunda ley de Newton, la masa del planeta se elimina y en la ecuación permanece sólo la masa del Sol.\n",
    "\n",
    "\n",
    "Así pues, podemos describir en sistema en un espacio bidimensional, donde $x$ t $y$ representan las coordenadas del objeto y $r=(x^2+y^2)^{1/2}$\n",
    "\n",
    "\\begin{equation}\n",
    "\\frac{d^2x}{dt^2} = -G\\frac{M*x}{(x^2+y^2)^{3/2}}\n",
    "\\end{equation}\n",
    "\n",
    "\\begin{equation}\n",
    "\\frac{d^2y}{dt^2} = -G\\frac{M*y}{(x^2+y^2)^{3/2}}\n",
    "\\end{equation}\n",
    "\n",
    "En el caso de dos objetos, el sistema es más grande, pero la lógica es la misma, en donde $x_1$ y $y_1$ son las coordenadas del primero objeto y $x_2$ y $y_2$ las del segundo. Y $m_1$ y $m_2$ sus masas respectivas. De esta manera, en dos dimensiones queda:\n",
    "\n",
    "\\begin{equation}\n",
    "\\frac{d^2x_1}{dt^2} = -G\\frac{M*(x_1-x_2)}{[(x_1-x_2)^2+(y_1-y_2)^2]^{3/2}}\n",
    "\\end{equation}\n",
    "\n",
    "\\begin{equation}\n",
    "\\frac{d^2y_1}{dt^2} = -G\\frac{M*(y_1-y_2)}{[(x_1-x_2)^2+(y_1-y_2)^2]^{3/2}}\n",
    "\\end{equation}\n",
    "\n",
    "\\begin{equation}\n",
    "\\frac{d^2x_2}{dt^2} = -G\\frac{M*(x_2-x_1)}{[(x_1-x_2)^2+(y_1-y_2)^2]^{3/2}}\n",
    "\\end{equation}\n",
    "\n",
    "\\begin{equation}\n",
    "\\frac{d^2y_2}{dt^2} = -G\\frac{M*(y_2-y_1)}{[(x_1-x_2)^2+(y_1-y_2)^2]^{3/2}}\n",
    "\\end{equation}\n",
    "\n",
    "\n"
   ]
  },
  {
   "cell_type": "markdown",
   "metadata": {},
   "source": [
    "<font color = purple>\n",
    "\n",
    "## 4. Simulaciones y resultados\n",
    "\n"
   ]
  },
  {
   "cell_type": "code",
   "execution_count": 81,
   "metadata": {
    "collapsed": true
   },
   "outputs": [],
   "source": [
    "# Importamos librerias necesarias.\n",
    "import numpy as np\n",
    "from scipy.integrate import odeint\n",
    "import matplotlib.pyplot as plt\n",
    "from ipywidgets import interact, interact_manual\n",
    "%matplotlib inline"
   ]
  },
  {
   "cell_type": "markdown",
   "metadata": {},
   "source": [
    "En este programa simularemos sistemas astronomicos usando las leyes de la gravitación universal. Representaremos la trayectoria del cometa Halley alrededor del Sol y el recorrido de dos estrellas en un sistema binario."
   ]
  },
  {
   "cell_type": "code",
   "execution_count": 92,
   "metadata": {
    "collapsed": true
   },
   "outputs": [],
   "source": [
    "# Modelo 1: Un cuerpo fijo\n",
    "def mov1 (x,t):\n",
    "    x, dx = x\n",
    "    return (dx, -G*M/x**2)    #Ecuación diferencial usada para modelar la trayectoria de un planeta alrededor de un Sol."
   ]
  },
  {
   "cell_type": "code",
   "execution_count": 93,
   "metadata": {
    "collapsed": true
   },
   "outputs": [],
   "source": [
    "#Tomamos como unidades fundametales de distancia, masa y tiempo como la unidad astronomica, la masa del sol y el año respectivamente \n",
    "#Condiciones inciales:\n",
    "G=39.91 #Gravedad del Sol\n",
    "M=1    #Masa del Sol"
   ]
  },
  {
   "cell_type": "code",
   "execution_count": 94,
   "metadata": {
    "collapsed": true
   },
   "outputs": [],
   "source": [
    "x0= (35.1, 0)   # Vector de condiciones iniciales, posición en el afelio, velocidad inicial 0.\n",
    "t1=30 #Primera condición de tiempo, 30 años\n",
    "t = np.linspace(0, t1, 1000)\n",
    "\n",
    "xx = odeint(mov1, x0, t) \n",
    "salto1=t1/1000 #Es para hacerle entender al interact cada cuanto es cada paso\n",
    "    "
   ]
  },
  {
   "cell_type": "code",
   "execution_count": 95,
   "metadata": {},
   "outputs": [
    {
     "data": {
      "application/vnd.jupyter.widget-view+json": {
       "model_id": "042d8edce10e48c3be1f4db9283ecc42"
      }
     },
     "metadata": {},
     "output_type": "display_data"
    }
   ],
   "source": [
    "def plut(time=0):\n",
    "    plt.figure(figsize=(6,5))\n",
    "    x=xx[:,0]\n",
    "    y=time\n",
    "    plt.plot(y, x[int(time*(1/salto1))], 'ko', ms =10, label='Planeta')\n",
    "\n",
    "    plt.plot(t, xx[:,0] , 'r', label='Posición')\n",
    "    plt.grid()\n",
    "    plt.legend(loc=(1.1, 0.1))\n",
    "    plt.xlabel('Tiempo[Año]')\n",
    "    plt.ylabel('Posicion[U.A.]')\n",
    "\n",
    "interact_manual(plut, time = (0,t1,salto1));\n",
    "plt.show()"
   ]
  },
  {
   "cell_type": "code",
   "execution_count": 96,
   "metadata": {
    "collapsed": true
   },
   "outputs": [],
   "source": [
    "# Partícula en 2d\n",
    "\n",
    "# Definimos ecuaciones de movimiento.\n",
    "def mov1 (x,t):\n",
    "    x, dx, y, dy = x\n",
    "    return (dx, -G*M*x/(y**2+x**2)**(3/2), dy, -G*M*y/(y**2+x**2)**(3/2))"
   ]
  },
  {
   "cell_type": "code",
   "execution_count": 97,
   "metadata": {},
   "outputs": [],
   "source": [
    "x0= (0.571, 0, 0, 11.72816) #Condiciones iniclaes de la partícula, posición en x, velocidad en x, posicion en y, velocidad en y. Posicion y velocidad en el afelio\n",
    "t2=100 #Segunda condición de tiempo\n",
    "\n",
    "t = np.linspace(0, t2, 1000)\n",
    "\n",
    "xx = odeint(mov1, x0, t)\n",
    "\n",
    "salto2=t2/1000\n"
   ]
  },
  {
   "cell_type": "code",
   "execution_count": 98,
   "metadata": {},
   "outputs": [
    {
     "data": {
      "application/vnd.jupyter.widget-view+json": {
       "model_id": "3215cd312a484c15a1fe92e68ceb5324"
      }
     },
     "metadata": {},
     "output_type": "display_data"
    }
   ],
   "source": [
    "def plet(time=0):\n",
    "    plt.figure(figsize=(6,5))\n",
    "    x=xx[:,0]\n",
    "    y=xx[:,2]\n",
    "    z=time\n",
    "    plt.scatter(xx[:,0], xx[:,2], c= xx[:,0] , s = 8, lw = 0, cmap=plt.cm.gist_earth)\n",
    "    #plt.plot(z, x[int(time*(1/salto2))], 'ko', ms =10, label='Planeta 1')\n",
    "    plt.plot(0, 0, 'ko', ms =10, label='Sol')\n",
    "    #plt.plot(z, y[int(time*(1/salto2))], 'mD', ms =10, label='Planeta 2')\n",
    "    plt.plot(x[int(time*(1/salto2))], y[int(time*(1/salto2))], 'mD', ms =10, label='Planeta')\n",
    "    plt.legend(loc=(1.1, 0.1))\n",
    "    plt.xlabel('Desplazamiento en $x$ [U.A.]')\n",
    "    plt.ylabel('Desplazamiento en $y$ [U.A.]')\n",
    "    plt.grid()\n",
    "interact_manual(plet, time = (0,t2,salto2));\n",
    "plt.show()"
   ]
  },
  {
   "cell_type": "code",
   "execution_count": 99,
   "metadata": {
    "collapsed": true
   },
   "outputs": [],
   "source": [
    "# 2 Partículas\n",
    "# Se define arreglo de ecuaciones para un sistema binario de estrellas con masa igual a la del Sol\n",
    "m1, m2 = 1, 1\n",
    "def mov2 (x,t):\n",
    "    x1, dx1, y1, dy1, x2, dx2, y2, dy2 = x\n",
    "    return (dx1, -G*m2*(x1-x2)/((y1-y2)**2+(x1-x2)**2)**(3/2), dy1, -G*m2*(y1-y2)/((y1-y2)**2+(x1-x2)**2)**(3/2),\n",
    "           dx2, -G*m1*(x2-x1)/((y1-y2)**2+(x1-x2)**2)**(3/2), dy2, -G*m1*(y2-y1)/((y1-y2)**2+(x1-x2)**2)**(3/2))"
   ]
  },
  {
   "cell_type": "code",
   "execution_count": 100,
   "metadata": {
    "collapsed": true
   },
   "outputs": [],
   "source": [
    "x0= (1, 0, 0, 0.05, -1, 0, 0, -0.05) # Condiciones iniciales de ambas partículas.\n",
    "t3=10 # Tercera condición de tiempo\n",
    "t = np.linspace(0, t3, 1000)\n",
    "\n",
    "xx = odeint(mov2, x0, t)\n",
    "salto3= t3/1000"
   ]
  },
  {
   "cell_type": "code",
   "execution_count": 101,
   "metadata": {},
   "outputs": [
    {
     "data": {
      "application/vnd.jupyter.widget-view+json": {
       "model_id": "fe786bf983024b2fae7c34ba37eee5f5"
      }
     },
     "metadata": {},
     "output_type": "display_data"
    }
   ],
   "source": [
    "def plot3(time=0):\n",
    "    plt.figure(figsize=(15,6))\n",
    "    x1=xx[:,0]\n",
    "    y1=xx[:,2]\n",
    "    x2=xx[:,4]\n",
    "    y2=xx[:,6]\n",
    "    plt.scatter(x1, y1, c= xx[:,0] , s = 8, lw = 0, cmap=plt.cm.winter) # Gráfica 1era órbita\n",
    "    plt.scatter(x2, y2, c= xx[:,0] , s = 8, lw = 0, cmap=plt.cm.cool) # Gráfica 2da órbita\n",
    "    plt.plot(x1[int(time*(1/salto3))], y1[int(time*(1/salto3))], 'rD', ms =10, label='Planeta 1') #Diamante del planeta 1\n",
    "    plt.plot(x2[int(time*(1/salto3))], y2[int(time*(1/salto3))], 'g^', ms =10, label='Planeta 2') #Triangulo del planeta 2\n",
    "    plt.legend(loc=(1.1, 0.1))\n",
    "    plt.xlabel('Desplazamiento en $x$ [U.A.]')\n",
    "    plt.ylabel('Desplazamiento en $y$ [U.A.]')\n",
    "    plt.grid()\n",
    "interact_manual(plot3, time = (0,t3,salto3));"
   ]
  },
  {
   "cell_type": "markdown",
   "metadata": {
    "collapsed": true
   },
   "source": [
    "<font color = purple>\n",
    "\n",
    "## 5. Conclusiones\n",
    "\n",
    "<font color = blue>\n"
   ]
  },
  {
   "cell_type": "markdown",
   "metadata": {
    "collapsed": true
   },
   "source": [
    "<font color = purple>\n",
    "\n",
    "## 6. Referencias\n",
    "\n",
    "<font color = black>\n",
    "\n",
    "\n",
    "* Baker, J., & Ribera de Madariaga, B. (2007). *50 cosas que hay que saber sobre física.* Barcelona: Ariel.\n",
    "\n",
    "* Flores, R. (2009). *El concepto del movimiento planetario a través de la historia.* Fisicayquimicaenflash.es. Recuperado el 24 de septiembre del 2017, de: http://fisicayquimicaenflash.es/eso/4eso/dinamica/dinam09.html\n",
    "\n",
    "* Papadatos, K. (s.f.). *The equations of planetary motion and their solution.* Recuperado el 24 de septiembre del 2017, de: https://gsjournal.net/Science-Journals/Research%20Papers-Astrophysics/Download/3763\n",
    "\n",
    "* Stern, D. (2005). *Las Tres Leyes de Kepler del Movimiento Planetario.* Www-istp.gsfc.nasa.gov. Recuperado el 24 de septiembre del 2017, de: https://www-istp.gsfc.nasa.gov/stargaze/Mkepl3laws.htm\n",
    "\n"
   ]
  },
  {
   "cell_type": "code",
   "execution_count": null,
   "metadata": {
    "collapsed": true
   },
   "outputs": [],
   "source": []
  },
  {
   "cell_type": "code",
   "execution_count": null,
   "metadata": {
    "collapsed": true
   },
   "outputs": [],
   "source": []
  }
 ],
 "metadata": {
  "kernelspec": {
   "display_name": "Python 3",
   "language": "python",
   "name": "python3"
  },
  "language_info": {
   "codemirror_mode": {
    "name": "ipython",
    "version": 3
   },
   "file_extension": ".py",
   "mimetype": "text/x-python",
   "name": "python",
   "nbconvert_exporter": "python",
   "pygments_lexer": "ipython3",
   "version": "3.6.1"
  }
 },
 "nbformat": 4,
 "nbformat_minor": 2
}
